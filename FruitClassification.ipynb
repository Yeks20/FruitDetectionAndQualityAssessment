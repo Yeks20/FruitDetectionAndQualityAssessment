{
 "cells": [
  {
   "cell_type": "markdown",
   "metadata": {},
   "source": [
    "## AI-Powered System for Fruit Deduction and Quality Assessment\n",
    "\n",
    "### Group -5 "
   ]
  },
  {
   "cell_type": "markdown",
   "metadata": {},
   "source": [
    "#### Import Libraries"
   ]
  },
  {
   "cell_type": "code",
   "execution_count": 14,
   "metadata": {},
   "outputs": [],
   "source": [
    "import numpy as np # linear algebra\n",
    "import pandas as pd # data processing, CSV file I/O (e.g. pd.read_csv)\n",
    "\n",
    "# Input data files are available in the read-only \"../input/\" directory\n",
    "# For example, running this (by clicking run or pressing Shift+Enter) will list all files under the input directory\n",
    "\n",
    "import os\n",
    "for dirname, _, filenames in os.walk('C:/Users/chris/Downloads/fruitClassification'):\n",
    "    for filename in filenames:\n",
    "        #print(os.path.join(dirname, filename))\n",
    "        pass\n",
    "\n"
   ]
  },
  {
   "cell_type": "code",
   "execution_count": 15,
   "metadata": {},
   "outputs": [],
   "source": []
  },
  {
   "cell_type": "markdown",
   "metadata": {},
   "source": [
    "#### tensor flow libraries"
   ]
  },
  {
   "cell_type": "code",
   "execution_count": 16,
   "metadata": {},
   "outputs": [],
   "source": [
    "import tensorflow as tf\n",
    "\n",
    "from tensorflow.keras import datasets, layers, models\n",
    "from tensorflow.keras.models import Sequential\n",
    "from tensorflow.keras.layers import Dense, Conv2D, Flatten, Dropout, MaxPooling2D\n",
    "from tensorflow.keras.preprocessing.image import ImageDataGenerator\n",
    "\n",
    "import os\n",
    "import numpy as np\n",
    "import matplotlib.pyplot as plt\n",
    "from tensorflow import keras\n",
    "from tensorflow.keras.preprocessing.image import load_img, img_to_array\n",
    "from tensorflow.keras.applications.xception import preprocess_input, decode_predictions"
   ]
  },
  {
   "cell_type": "markdown",
   "metadata": {},
   "source": [
    "### Loading and Preprocessing Data\n",
    "\n",
    "#### Loaded and preprocessed the data using the ImageDataGenerator class.\n"
   ]
  },
  {
   "cell_type": "markdown",
   "metadata": {},
   "source": [
    "#### Create an ImageDataGenerator object for the training dataset\n",
    "#### The rescale argument rescales the pixel values from [0, 255] to [0, 1]"
   ]
  },
  {
   "cell_type": "code",
   "execution_count": 17,
   "metadata": {},
   "outputs": [],
   "source": [
    "train_datagen = ImageDataGenerator(rescale=1./255)\n",
    "valid_datagen = ImageDataGenerator(rescale=1./255)\n",
    "test_datagen = ImageDataGenerator(rescale=1./255)"
   ]
  },
  {
   "cell_type": "markdown",
   "metadata": {},
   "source": [
    "\n",
    "### Create a data generator for the training dataset\n",
    "#### - flow_from_directory loads images from the specified directory\n",
    "#### - target_size resizes all images to 224x224 pixels\n",
    "#### - batch_size determines the number of images generated per batch\n",
    "#### - class_mode='categorical' specifies that the labels are categorical (one-hot encoded)"
   ]
  },
  {
   "cell_type": "code",
   "execution_count": 18,
   "metadata": {},
   "outputs": [
    {
     "name": "stdout",
     "output_type": "stream",
     "text": [
      "Found 3115 images belonging to 36 classes.\n",
      "Found 351 images belonging to 36 classes.\n",
      "Found 359 images belonging to 36 classes.\n"
     ]
    }
   ],
   "source": [
    "train_generator = train_datagen.flow_from_directory(\"C:/Users/chris/Downloads/fruitClassification/train\", target_size=(224, 224), batch_size=32, class_mode='categorical')\n",
    "valid_generator = valid_datagen.flow_from_directory('C:/Users/chris/Downloads/fruitClassification/validation', target_size=(224, 224), batch_size=32, class_mode='categorical')\n",
    "test_generator = test_datagen.flow_from_directory('C:/Users/chris/Downloads/fruitClassification/test', target_size=(224, 224), batch_size=32, class_mode='categorical')"
   ]
  },
  {
   "cell_type": "markdown",
   "metadata": {},
   "source": [
    "#### Import necessary libraries and models for deep learning tasks, including InceptionV3, ResNet50, VGG16, DenseNet121, EfficientNetB0, and Xception, along with supporting modules for model creation, data preprocessing, and numerical computations.\n"
   ]
  },
  {
   "cell_type": "code",
   "execution_count": 19,
   "metadata": {},
   "outputs": [],
   "source": [
    "import numpy as np\n",
    "import tensorflow as tf\n",
    "from tensorflow.keras.preprocessing.image import ImageDataGenerator\n",
    "from tensorflow.keras.applications.inception_v3 import InceptionV3, preprocess_input\n",
    "from tensorflow.keras.models import Model\n",
    "from tensorflow.keras.layers import Dense, GlobalAveragePooling2D\n",
    "from tensorflow.keras.applications import ResNet50\n",
    "from tensorflow.keras.applications import VGG16\n",
    "from tensorflow.keras.applications import DenseNet121\n",
    "from tensorflow.keras.applications import EfficientNetB0\n",
    "from tensorflow.keras.applications import Xception"
   ]
  },
  {
   "cell_type": "markdown",
   "metadata": {},
   "source": [
    "#### Initialize the DenseNet121 model with pre-trained weights from ImageNet, excluding the top fully connected layers, and specifying an input shape of 224x224 pixels with 3 color channels.\n"
   ]
  },
  {
   "cell_type": "code",
   "execution_count": 20,
   "metadata": {},
   "outputs": [],
   "source": [
    "base_model = DenseNet121(weights='imagenet', include_top=False,input_shape=(224, 224, 3))"
   ]
  },
  {
   "cell_type": "code",
   "execution_count": 21,
   "metadata": {},
   "outputs": [],
   "source": [
    "# Get the output of the base model\n",
    "x = base_model.output\n",
    "\n",
    "# Apply global average pooling to reduce the feature dimensions and retain only the most relevant features.\n",
    "x = GlobalAveragePooling2D()(x)\n",
    "\n",
    "# Add a dense layer with 512 units and ReLU activation for further processing of the pooled features.\n",
    "x = Dense(512, activation='relu')(x)\n",
    "\n",
    "# Add a final dense layer with 36 units and softmax activation to output probabilities for 36 different classes.\n",
    "predictions = Dense(36, activation='softmax')(x)"
   ]
  },
  {
   "cell_type": "code",
   "execution_count": 22,
   "metadata": {},
   "outputs": [],
   "source": [
    "# Create a Keras model by specifying the input from the base model and the output as the predictions layer, effectively combining the base model and the custom layers for classification.\n",
    "model = Model(inputs=base_model.input, outputs=predictions)\n"
   ]
  },
  {
   "cell_type": "code",
   "execution_count": 23,
   "metadata": {},
   "outputs": [],
   "source": [
    "# Set all layers in the base model to non-trainable, freezing their weights during training, so only the custom layers added on top will be trained.\n",
    "for layer in base_model.layers:\n",
    "    layer.trainable = False\n"
   ]
  },
  {
   "cell_type": "code",
   "execution_count": 24,
   "metadata": {},
   "outputs": [],
   "source": [
    "# Compile the model with the Adam optimizer, using categorical crossentropy as the loss function for multi-class classification, and track accuracy as the performance metric.\n",
    "model.compile(optimizer='adam', loss='categorical_crossentropy', metrics=['accuracy'])\n"
   ]
  },
  {
   "cell_type": "markdown",
   "metadata": {},
   "source": [
    "### Training the Model with Early Stopping\n",
    "\n",
    "We trained the model using the training and validation data, and implement early stopping to avoid overfitting.\n"
   ]
  },
  {
   "cell_type": "code",
   "execution_count": 25,
   "metadata": {},
   "outputs": [],
   "source": [
    "from tensorflow.keras.callbacks import EarlyStopping\n",
    "\n",
    "# Define the EarlyStopping callback to monitor the validation accuracy, \n",
    "# stop training if there's no improvement for 5 epochs, \n",
    "# and restore the model weights from the epoch with the best validation accuracy.\n",
    "early_stopping_callback = EarlyStopping(\n",
    "    monitor='val_accuracy',\n",
    "    patience=5,\n",
    "    restore_best_weights=True\n",
    ")\n"
   ]
  },
  {
   "cell_type": "markdown",
   "metadata": {},
   "source": [
    "#### Train the model using the training data generator for 20 epochs, with the number of steps per epoch calculated based on the training samples and batch size. Use the validation data generator to evaluate the model at the end of each epoch, and apply the early stopping callback to halt training if the validation accuracy doesn't improve."
   ]
  },
  {
   "cell_type": "code",
   "execution_count": 26,
   "metadata": {},
   "outputs": [
    {
     "name": "stdout",
     "output_type": "stream",
     "text": [
      "Epoch 1/20\n",
      "\u001b[1m97/97\u001b[0m \u001b[32m━━━━━━━━━━━━━━━━━━━━\u001b[0m\u001b[37m\u001b[0m \u001b[1m266s\u001b[0m 3s/step - accuracy: 0.4592 - loss: 2.0984 - val_accuracy: 0.8719 - val_loss: 0.4108\n",
      "Epoch 2/20\n",
      "\u001b[1m97/97\u001b[0m \u001b[32m━━━━━━━━━━━━━━━━━━━━\u001b[0m\u001b[37m\u001b[0m \u001b[1m4s\u001b[0m 28ms/step - accuracy: 0.8438 - loss: 0.5448 - val_accuracy: 0.9032 - val_loss: 0.3217\n",
      "Epoch 3/20\n",
      "\u001b[1m97/97\u001b[0m \u001b[32m━━━━━━━━━━━━━━━━━━━━\u001b[0m\u001b[37m\u001b[0m \u001b[1m236s\u001b[0m 2s/step - accuracy: 0.8545 - loss: 0.4989 - val_accuracy: 0.9281 - val_loss: 0.2316\n",
      "Epoch 4/20\n",
      "\u001b[1m97/97\u001b[0m \u001b[32m━━━━━━━━━━━━━━━━━━━━\u001b[0m\u001b[37m\u001b[0m \u001b[1m4s\u001b[0m 26ms/step - accuracy: 0.8750 - loss: 0.3833 - val_accuracy: 0.9355 - val_loss: 0.2446\n",
      "Epoch 5/20\n",
      "\u001b[1m97/97\u001b[0m \u001b[32m━━━━━━━━━━━━━━━━━━━━\u001b[0m\u001b[37m\u001b[0m \u001b[1m218s\u001b[0m 2s/step - accuracy: 0.8914 - loss: 0.3490 - val_accuracy: 0.9469 - val_loss: 0.1811\n",
      "Epoch 6/20\n",
      "\u001b[1m97/97\u001b[0m \u001b[32m━━━━━━━━━━━━━━━━━━━━\u001b[0m\u001b[37m\u001b[0m \u001b[1m3s\u001b[0m 17ms/step - accuracy: 0.8750 - loss: 0.2415 - val_accuracy: 0.8710 - val_loss: 0.2928\n",
      "Epoch 7/20\n",
      "\u001b[1m97/97\u001b[0m \u001b[32m━━━━━━━━━━━━━━━━━━━━\u001b[0m\u001b[37m\u001b[0m \u001b[1m228s\u001b[0m 2s/step - accuracy: 0.9345 - loss: 0.2139 - val_accuracy: 0.9312 - val_loss: 0.2024\n",
      "Epoch 8/20\n",
      "\u001b[1m97/97\u001b[0m \u001b[32m━━━━━━━━━━━━━━━━━━━━\u001b[0m\u001b[37m\u001b[0m \u001b[1m5s\u001b[0m 26ms/step - accuracy: 0.8750 - loss: 0.3753 - val_accuracy: 0.9032 - val_loss: 0.1988\n",
      "Epoch 9/20\n",
      "\u001b[1m97/97\u001b[0m \u001b[32m━━━━━━━━━━━━━━━━━━━━\u001b[0m\u001b[37m\u001b[0m \u001b[1m0s\u001b[0m 2s/step - accuracy: 0.9448 - loss: 0.1760"
     ]
    }
   ],
   "source": [
    "history = model.fit(\n",
    "    train_generator,\n",
    "    steps_per_epoch=train_generator.samples // train_generator.batch_size,\n",
    "    epochs=20,\n",
    "    validation_data=valid_generator,\n",
    "    validation_steps=valid_generator.samples // valid_generator.batch_size,\n",
    "    callbacks=[early_stopping_callback])"
   ]
  },
  {
   "cell_type": "markdown",
   "metadata": {},
   "source": [
    "5. Visualizing Training Results\n",
    "We plotted the training and validation accuracy and loss to visualize the model's performance."
   ]
  },
  {
   "cell_type": "code",
   "execution_count": null,
   "metadata": {},
   "outputs": [],
   "source": [
    "# Extract the training accuracy and validation accuracy from the training history\n",
    "acc = history.history['accuracy']\n",
    "val_acc = history.history['val_accuracy']\n",
    "\n",
    "# Extract the training loss and validation loss from the training history\n",
    "loss = history.history['loss']\n",
    "val_loss = history.history['val_loss']\n",
    "\n",
    "# Determine the range of epochs based on the length of the accuracy history\n",
    "epochs_range = range(len(acc))\n"
   ]
  },
  {
   "cell_type": "markdown",
   "metadata": {},
   "source": [
    "#### Plot training and validation accuracy over the epochs"
   ]
  },
  {
   "cell_type": "code",
   "execution_count": null,
   "metadata": {},
   "outputs": [],
   "source": [
    "plt.figure(figsize=(8, 8))\n",
    "plt.subplot(1, 2, 1)\n",
    "plt.plot(epochs_range, acc, label='Training Accuracy')\n",
    "plt.plot(epochs_range, val_acc, label='Validation Accuracy')\n",
    "plt.legend(loc='lower right')\n",
    "plt.title('Training and Validation Accuracy')"
   ]
  },
  {
   "cell_type": "markdown",
   "metadata": {},
   "source": [
    "#### Plot training and validation loss over the epochs"
   ]
  },
  {
   "cell_type": "code",
   "execution_count": null,
   "metadata": {},
   "outputs": [
    {
     "data": {
      "image/png": "[encoded data removed]",
      "text/plain": [
       "<Figure size 800x800 with 2 Axes>"
      ]
     },
     "metadata": {},
     "output_type": "display_data"
    }
   ],
   "source": [
    "plt.subplot(1, 2, 2)\n",
    "plt.plot(epochs_range, loss, label='Training Loss')\n",
    "plt.plot(epochs_range, val_loss, label='Validation Loss')\n",
    "plt.legend(loc='upper right')\n",
    "plt.title('Training and Validation Loss')\n",
    "\n",
    "# Display the plots\n",
    "plt.show()\n",
    "\n"
   ]
  },
  {
   "cell_type": "markdown",
   "metadata": {},
   "source": [
    "#### Evaluate the model using the validation data generator and obtain the loss and accuracy"
   ]
  },
  {
   "cell_type": "code",
   "execution_count": null,
   "metadata": {},
   "outputs": [
    {
     "name": "stdout",
     "output_type": "stream",
     "text": [
      "\u001b[1m11/11\u001b[0m \u001b[32m━━━━━━━━━━━━━━━━━━━━\u001b[0m\u001b[37m\u001b[0m \u001b[1m34s\u001b[0m 3s/step - accuracy: 0.9371 - loss: 0.1787\n",
      "Test accuracy: 0.945868968963623\n"
     ]
    }
   ],
   "source": [
    "\n",
    "test_loss, test_acc = model.evaluate(valid_generator)\n",
    "\n",
    "# Print the test accuracy\n",
    "print('Test accuracy:', test_acc)\n"
   ]
  },
  {
   "cell_type": "markdown",
   "metadata": {},
   "source": [
    "#### Evaluate the model using the test data generator to determine the final loss and accuracy"
   ]
  },
  {
   "cell_type": "code",
   "execution_count": null,
   "metadata": {},
   "outputs": [
    {
     "name": "stdout",
     "output_type": "stream",
     "text": [
      "\u001b[1m 2/12\u001b[0m \u001b[32m━━━\u001b[0m\u001b[37m━━━━━━━━━━━━━━━━━\u001b[0m \u001b[1m29s\u001b[0m 3s/step - accuracy: 0.9453 - loss: 0.1213       "
     ]
    }
   ],
   "source": [
    "\n",
    "test_loss, test_acc = model.evaluate(test_generator)\n",
    "\n",
    "# Print the test accuracy\n",
    "print('Test accuracy:', test_acc)\n"
   ]
  },
  {
   "cell_type": "code",
   "execution_count": null,
   "metadata": {},
   "outputs": [
    {
     "name": "stdout",
     "output_type": "stream",
     "text": [
      "['apple', 'banana', 'beetroot', 'bell pepper', 'cabbage', 'capsicum', 'carrot', 'cauliflower', 'chilli pepper', 'corn', 'cucumber', 'eggplant', 'garlic', 'ginger', 'grapes', 'jalepeno', 'kiwi', 'lemon', 'lettuce', 'mango', 'onion', 'orange', 'paprika', 'pear', 'peas', 'pineapple', 'pomegranate', 'potato', 'raddish', 'soy beans', 'spinach', 'sweetcorn', 'sweetpotato', 'tomato', 'turnip', 'watermelon']\n"
     ]
    }
   ],
   "source": [
    "# Retrieve the class indices from the training data generator\n",
    "class_names = train_generator.class_indices\n",
    "\n",
    "# Extract the class names by obtaining the keys (class names) from the class_indices dictionary\n",
    "class_names = list(class_names.keys())\n",
    "\n",
    "# Print the list of class names\n",
    "print(class_names)\n"
   ]
  },
  {
   "cell_type": "markdown",
   "metadata": {},
   "source": [
    "### Displaying Predictions on Test Images"
   ]
  },
  {
   "cell_type": "code",
   "execution_count": null,
   "metadata": {},
   "outputs": [],
   "source": [
    "def plot_images_with_predictions(generator, model, class_names):\n",
    "    # Set the size of the plot\n",
    "    plt.figure(figsize=(20, 30))\n",
    "    \n",
    "    # Get the batch size from the generator\n",
    "    batch_size = generator.batch_size\n",
    "    # Set the total number of images to display (4 columns x 10 rows)\n",
    "    num_images = 40\n",
    "    # Calculate the number of full batches and the remainder\n",
    "    num_batches = num_images // batch_size\n",
    "    remainder = num_images % batch_size\n",
    "\n",
    "    # Loop over the full batches of images\n",
    "    for _ in range(num_batches):\n",
    "        # Get the next batch of images and labels from the generator\n",
    "        images, labels = next(generator)\n",
    "        # Predict the labels using the model\n",
    "        predictions = model.predict(images)\n",
    "        # Loop over each image in the batch\n",
    "        for i in range(batch_size):\n",
    "            # Plot the image in a grid with 10 rows and 4 columns\n",
    "            plt.subplot(10, 4, _ * batch_size + i + 1)\n",
    "            # Display the image\n",
    "            plt.imshow(images[i])\n",
    "            # Remove the x and y ticks\n",
    "            plt.xticks([])\n",
    "            plt.yticks([])\n",
    "\n",
    "            # Get the true and predicted labels\n",
    "            true_label = np.argmax(labels[i])\n",
    "            predicted_label = np.argmax(predictions[i])\n",
    "            # Get the confidence of the prediction\n",
    "            confidence = np.max(predictions[i])\n",
    "\n",
    "            # Set the label color based on correctness\n",
    "            if predicted_label == true_label:\n",
    "                color = 'green'\n",
    "            else:\n",
    "                color = 'red'\n",
    "\n",
    "            # Display the true and predicted labels with confidence\n",
    "            plt.xlabel(f\"{class_names[true_label]} \\n {class_names[predicted_label]} ({confidence * 100:.2f}%)\", color=color)\n",
    "\n",
    "    # If there are leftover images not fitting into full batches\n",
    "    if remainder > 0:\n",
    "        # Get the next batch of images and labels\n",
    "        images, labels = next(generator)\n",
    "        # Predict the labels\n",
    "        predictions = model.predict(images)\n",
    "        # Loop over the leftover images\n",
    "        for i in range(remainder):\n",
    "            # Plot the image in the grid\n",
    "            plt.subplot(10, 4, num_batches * batch_size + i + 1)\n",
    "            plt.imshow(images[i])\n",
    "            plt.xticks([])\n",
    "            plt.yticks([])\n",
    "\n",
    "            true_label = np.argmax(labels[i])\n",
    "            predicted_label = np.argmax(predictions[i])\n",
    "            confidence = np.max(predictions[i])\n",
    "\n",
    "            if predicted_label == true_label:\n",
    "                color = 'green'\n",
    "            else:\n",
    "                color = 'red'\n",
    "\n",
    "            plt.xlabel(f\"{class_names[true_label]} \\n {class_names[predicted_label]} ({confidence * 100:.2f}%)\", color=color)\n",
    "\n",
    "# Get the class labels from the training generator\n",
    "class_names = list(train_generator.class_indices.keys())\n",
    "\n",
    "# Call the function to plot images with predictions\n",
    "plot_images_with_predictions(test_generator, model, class_names)\n",
    "\n",
    "# Adjust the spacing between subplots to prevent overlap\n",
    "plt.tight_layout()\n",
    "# Display the plot\n",
    "plt.show()\n"
   ]
  }
 ],
 "metadata": {
  "kernelspec": {
   "display_name": "Python 3",
   "language": "python",
   "name": "python3"
  },
  "language_info": {
   "codemirror_mode": {
    "name": "ipython",
    "version": 3
   },
   "file_extension": ".py",
   "mimetype": "text/x-python",
   "name": "python",
   "nbconvert_exporter": "python",
   "pygments_lexer": "ipython3",
   "version": "3.11.9"
  }
 },
 "nbformat": 4,
 "nbformat_minor": 2
}
